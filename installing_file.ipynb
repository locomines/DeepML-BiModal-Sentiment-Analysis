{
 "cells": [
  {
   "cell_type": "markdown",
   "id": "a30ef1a7",
   "metadata": {},
   "source": [
    "# Commandes à lancer dans l'ordre pour faire fonctionner le fichier run.sh"
   ]
  },
  {
   "cell_type": "code",
   "execution_count": null,
   "id": "a8df6334",
   "metadata": {},
   "outputs": [],
   "source": [
    "conda create -n GNN\n",
    "conda activate GNN\n",
    "cd '''<path_name>'''\n",
    "conda config --env --add channels pytorch\n",
    "conda install python\n",
    "conda install pip\n",
    "\n",
    "#conda install pytorch torchvision # lancer cela si vous n'êtes pas sur Mac. \n",
    "conda install pytorch torchvision cpuonly -c pytorch # lancer cela si vous êtes sur Mac. Il s'agit de la version cpuonly de pytorch.\n",
    "\n",
    "conda install cudatoolkit # je pense qu'on en a donc pas besoin si on est sur Mac\n",
    "conda install -c dglteam dgl\n",
    "conda install word2vec\n",
    "conda install torchnet\n",
    "#pip install torchnet si ca conda ne fonctionne pas\n",
    "conda install scikit-learn # bien scikit-learn et non pas sklearn\n",
    "\n",
    "git clone https://github.com/NVIDIA/apex\n",
    "cd apex\n",
    "pip install -v --disable-pip-version-check --no-cache-dir --global-option=\"--cpp_ext\" --global-option=\"--cuda_ext\" ./\n"
   ]
  }
 ],
 "metadata": {
  "kernelspec": {
   "display_name": "Python 3 (ipykernel)",
   "language": "python",
   "name": "python3"
  },
  "language_info": {
   "codemirror_mode": {
    "name": "ipython",
    "version": 3
   },
   "file_extension": ".py",
   "mimetype": "text/x-python",
   "name": "python",
   "nbconvert_exporter": "python",
   "pygments_lexer": "ipython3",
   "version": "3.10.9"
  }
 },
 "nbformat": 4,
 "nbformat_minor": 5
}
